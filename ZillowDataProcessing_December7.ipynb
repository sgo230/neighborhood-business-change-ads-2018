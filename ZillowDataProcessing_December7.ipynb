{
 "cells": [
  {
   "cell_type": "code",
   "execution_count": 1,
   "metadata": {},
   "outputs": [
    {
     "name": "stdout",
     "output_type": "stream",
     "text": [
      "Populating the interactive namespace from numpy and matplotlib\n"
     ]
    }
   ],
   "source": [
    "import os #OS commands\n",
    "import numpy as np\n",
    "import json\n",
    "import pandas as pd\n",
    "import geopandas as gp\n",
    "import pylab as pl\n",
    "%pylab inline\n",
    "import zipfile\n",
    "import statsmodels.formula.api as smf\n",
    "import geopandas as gpd\n",
    "import datetime\n",
    "\n"
   ]
  },
  {
   "cell_type": "code",
   "execution_count": 2,
   "metadata": {
    "scrolled": true
   },
   "outputs": [
    {
     "data": {
      "text/plain": [
       "['ForeclosuresPer10Khomes_Neighborhood.csv',\n",
       " 'InventoryMeasure_Neighborhood_Public.csv',\n",
       " 'InventoryMeasure_SSA_Neighborhood_Public.csv',\n",
       " 'MonthlyTurnover_Neighborhood.csv',\n",
       " 'Neighborhood_Listings_PriceCut_SeasAdj_AllHomes.csv',\n",
       " 'Neighborhood_Listings_PriceCut_SeasAdj_Condominum.csv',\n",
       " 'Neighborhood_Listings_PriceCut_SeasAdj_SingleFamilyResidence.csv',\n",
       " 'Neighborhood_MedianListingPricePerSqft_1Bedroom.csv',\n",
       " 'Neighborhood_MedianListingPricePerSqft_2Bedroom.csv',\n",
       " 'Neighborhood_MedianListingPricePerSqft_3Bedroom.csv',\n",
       " 'Neighborhood_MedianListingPricePerSqft_4Bedroom.csv',\n",
       " 'Neighborhood_MedianListingPricePerSqft_5BedroomOrMore.csv',\n",
       " 'Neighborhood_MedianListingPricePerSqft_AllHomes.csv',\n",
       " 'Neighborhood_MedianListingPricePerSqft_BottomTier.csv',\n",
       " 'Neighborhood_MedianListingPricePerSqft_CondoCoop.csv',\n",
       " 'Neighborhood_MedianListingPricePerSqft_DuplexTriplex.csv',\n",
       " 'Neighborhood_MedianListingPricePerSqft_MiddleTier.csv',\n",
       " 'Neighborhood_MedianListingPricePerSqft_Sfr.csv',\n",
       " 'Neighborhood_MedianListingPricePerSqft_TopTier.csv',\n",
       " 'Neighborhood_MedianListingPrice_1Bedroom.csv',\n",
       " 'Neighborhood_MedianListingPrice_2Bedroom.csv',\n",
       " 'Neighborhood_MedianListingPrice_3Bedroom.csv',\n",
       " 'Neighborhood_MedianListingPrice_4Bedroom.csv',\n",
       " 'Neighborhood_MedianListingPrice_5BedroomOrMore.csv',\n",
       " 'Neighborhood_MedianListingPrice_AllHomes.csv',\n",
       " 'Neighborhood_MedianListingPrice_BottomTier.csv',\n",
       " 'Neighborhood_MedianListingPrice_CondoCoop.csv',\n",
       " 'Neighborhood_MedianListingPrice_DuplexTriplex.csv',\n",
       " 'Neighborhood_MedianListingPrice_MiddleTier.csv',\n",
       " 'Neighborhood_MedianListingPrice_Sfr.csv',\n",
       " 'Neighborhood_MedianListingPrice_TopTier.csv',\n",
       " 'Neighborhood_MedianPctOfPriceReduction_AllHomes.csv',\n",
       " 'Neighborhood_MedianPctOfPriceReduction_Condominum.csv',\n",
       " 'Neighborhood_MedianPctOfPriceReduction_SingleFamilyResidence.csv',\n",
       " 'Neighborhood_MedianRentalPricePerSqft_1Bedroom.csv',\n",
       " 'Neighborhood_MedianRentalPricePerSqft_2Bedroom.csv',\n",
       " 'Neighborhood_MedianRentalPricePerSqft_3Bedroom.csv',\n",
       " 'Neighborhood_MedianRentalPricePerSqft_4Bedroom.csv',\n",
       " 'Neighborhood_MedianRentalPricePerSqft_5BedroomOrMore.csv',\n",
       " 'Neighborhood_MedianRentalPricePerSqft_AllHomes.csv',\n",
       " 'Neighborhood_MedianRentalPricePerSqft_CondoCoop.csv',\n",
       " 'Neighborhood_MedianRentalPricePerSqft_DuplexTriplex.csv',\n",
       " 'Neighborhood_MedianRentalPricePerSqft_Mfr5Plus.csv',\n",
       " 'Neighborhood_MedianRentalPricePerSqft_Sfr.csv',\n",
       " 'Neighborhood_MedianRentalPricePerSqft_Studio.csv',\n",
       " 'Neighborhood_MedianRentalPrice_1Bedroom.csv',\n",
       " 'Neighborhood_MedianRentalPrice_2Bedroom.csv',\n",
       " 'Neighborhood_MedianRentalPrice_3Bedroom.csv',\n",
       " 'Neighborhood_MedianRentalPrice_4Bedroom.csv',\n",
       " 'Neighborhood_MedianRentalPrice_5BedroomOrMore.csv',\n",
       " 'Neighborhood_MedianRentalPrice_AllHomes.csv',\n",
       " 'Neighborhood_MedianRentalPrice_CondoCoop.csv',\n",
       " 'Neighborhood_MedianRentalPrice_DuplexTriplex.csv',\n",
       " 'Neighborhood_MedianRentalPrice_Mfr5Plus.csv',\n",
       " 'Neighborhood_MedianRentalPrice_Sfr.csv',\n",
       " 'Neighborhood_MedianRentalPrice_Studio.csv',\n",
       " 'Neighborhood_MedianValuePerSqft_AllHomes.csv',\n",
       " 'Neighborhood_Median_PriceCut_Dollar_AllHomes.csv',\n",
       " 'Neighborhood_Median_PriceCut_Dollar_Condominum.csv',\n",
       " 'Neighborhood_Median_PriceCut_Dollar_SingleFamilyResidence.csv',\n",
       " 'Neighborhood_PctOfHomesDecreasingInValues_AllHomes.csv',\n",
       " 'Neighborhood_PctOfHomesIncreasingInValues_AllHomes.csv',\n",
       " 'Neighborhood_PctOfListingsWithPriceReductions_AllHomes.csv',\n",
       " 'Neighborhood_PctOfListingsWithPriceReductions_Condominum.csv',\n",
       " 'Neighborhood_PctOfListingsWithPriceReductions_SingleFamilyResidence.csv',\n",
       " 'Neighborhood_PriceToRentRatio_AllHomes.csv',\n",
       " 'Neighborhood_Zhvi_1bedroom.csv',\n",
       " 'Neighborhood_Zhvi_2bedroom.csv',\n",
       " 'Neighborhood_Zhvi_3bedroom.csv',\n",
       " 'Neighborhood_Zhvi_4bedroom.csv',\n",
       " 'Neighborhood_Zhvi_5BedroomOrMore.csv',\n",
       " 'Neighborhood_Zhvi_AllHomes.csv',\n",
       " 'Neighborhood_Zhvi_BottomTier.csv',\n",
       " 'Neighborhood_Zhvi_BottomTier_yoy.csv',\n",
       " 'Neighborhood_Zhvi_Condominum.csv',\n",
       " 'Neighborhood_Zhvi_MiddleTier.csv',\n",
       " 'Neighborhood_Zhvi_MiddleTier_yoy.csv',\n",
       " 'Neighborhood_Zhvi_SingleFamilyResidence.csv',\n",
       " 'Neighborhood_Zhvi_Summary_AllHomes.csv',\n",
       " 'Neighborhood_Zhvi_TopTier.csv',\n",
       " 'Neighborhood_Zhvi_TopTier_yoy.csv',\n",
       " 'Neighborhood_ZriPerSqft_AllHomes.csv',\n",
       " 'Neighborhood_Zri_AllHomes.csv',\n",
       " 'Neighborhood_Zri_AllHomesPlusMultifamily.csv',\n",
       " 'Neighborhood_Zri_AllHomesPlusMultifamily_Summary.csv',\n",
       " 'Neighborhood_Zri_AllHomes_Summary.csv',\n",
       " 'Neighborhood_Zri_BottomTier_yoy.csv',\n",
       " 'Neighborhood_Zri_MiddleTier_yoy.csv',\n",
       " 'Neighborhood_Zri_MultiFamilyResidenceRental.csv',\n",
       " 'Neighborhood_Zri_MultiFamilyResidenceRental_Summary.csv',\n",
       " 'Neighborhood_Zri_SingleFamilyResidenceRental.csv',\n",
       " 'Neighborhood_Zri_SingleFamilyResidenceRental_Summary.csv',\n",
       " 'Neighborhood_Zri_TopTier_yoy.csv',\n",
       " 'SalesPrevForeclosed_Share_Neighborhood.csv',\n",
       " 'Sale_Counts_BottomTier_Neighborhood.csv',\n",
       " 'Sale_Counts_MiddleTier_Neighborhood.csv',\n",
       " 'Sale_Counts_Neighborhood.csv',\n",
       " 'Sale_Counts_TopTier_Neighborhood.csv',\n",
       " 'Sale_Prices_BottomTier_Neighborhood.csv',\n",
       " 'Sale_Prices_MiddleTier_Neighborhood.csv',\n",
       " 'Sale_Prices_Neighborhood.csv',\n",
       " 'Sale_Prices_TopTier_Neighborhood.csv']"
      ]
     },
     "execution_count": 2,
     "metadata": {},
     "output_type": "execute_result"
    }
   ],
   "source": [
    "#unzip REData/Neighborhood.zip \n",
    "\n",
    "os.listdir('data/Neighborhood')"
   ]
  },
  {
   "cell_type": "code",
   "execution_count": 3,
   "metadata": {},
   "outputs": [],
   "source": [
    "# sale price per square ft\n",
    "featureOne =  'data/Neighborhood/Neighborhood_MedianListingPricePerSqft_AllHomes.csv' # 45 complete rows\n",
    "#featureOne =  'data/Neighborhood/Neighborhood_MedianListingPricePerSqft_2Bedroom.csv'\n",
    "#featureOne =  'data/Neighborhood/Sale_Prices_Neighborhood.csv'\n",
    "#featureOne =  'data/Neighborhood/Neighborhood_MedianListingPrice_2Bedroom.csv'\n",
    "#featureOne = 'data/Neighborhood/Neighborhood_MedianListingPricePerSqft_MiddleTier.csv'\n",
    "#featureOne = 'data/Neighborhood/Neighborhood_MedianListingPrice_MiddleTier.csv'\n",
    "#featureOne = 'data/Neighborhood/Neighborhood_MedianListingPrice_AllHomes.csv' #54 complete rows\n",
    "#featureOne = 'data/Neighborhood/Neighborhood_Listings_PriceCut_SeasAdj_AllHomes.csv'\n",
    "\n",
    "featureTwo = 'data/Neighborhood/Neighborhood_MedianRentalPricePerSqft_AllHomes.csv'\n",
    "#featureTwo= 'data/Neighborhood/Neighborhood_MedianRentalPrice_AllHomes.csv'\n",
    "#featureTwo = 'data/Neighborhood/Neighborhood_MedianValuePerSqft_AllHomes.csv'\n",
    "\n",
    "# % decline in home value\n",
    "featureThree =  'data/Neighborhood/Neighborhood_PctOfHomesDecreasingInValues_AllHomes.csv'\n",
    "\n",
    "# % increase in home value\n",
    "featureFour = 'data/Neighborhood/Neighborhood_PctOfHomesIncreasingInValues_AllHomes.csv'\n",
    "\n",
    "#featureFive = 'data/Neighborhood/ForeclosuresPer10Khomes_Neighborhood.csv' #not good\n",
    "featureFive = 'data/Neighborhood/Sale_Counts_BottomTier_Neighborhood.csv'\n",
    "\n",
    "#sales count top tier\n",
    "featureSix = 'data/Neighborhood/Sale_Counts_TopTier_Neighborhood.csv'\n",
    "\n",
    "#inventory\n",
    "featureSeven = 'data/Neighborhood/InventoryMeasure_Neighborhood_Public.csv'\n",
    "#featureSeven = 'data/Neighborhood/'InventoryMeasure_SSA_Neighborhood_Public./csv'\n"
   ]
  },
  {
   "cell_type": "code",
   "execution_count": 4,
   "metadata": {},
   "outputs": [],
   "source": [
    "def filterThis(thisDF, column, filterThis):\n",
    "    thisDF = thisDF.loc[thisDF[column]==filterThis]\n",
    "    return thisDF\n",
    "\n",
    "def filterbyID(thisDF):\n",
    "    thisDF = thisDF.loc[thisDF.loc[:,'RegionID'].isin(NYregions.keys())]\n",
    "    return thisDF\n",
    "\n",
    "def makeDict(IDcolumn, nameColumn):\n",
    "    regions ={IDcolumn.iloc[i]:nameColumn.iloc[i] for i in range(len(IDcolumn))}\n",
    "    return regions\n",
    "\n",
    "#make the region ID from the region name\n",
    "def makeRegID(thisDF):\n",
    "   # thisDF['RegionID']=0\n",
    "    thisDF.insert(loc=0, column='RegionID', value=0)\n",
    "    #thisDF.RegionID = thisDF.RegionID.astype(int)\n",
    "    rkeys = NYregions.keys()\n",
    "    #cycle through all rows in data frame\n",
    "    for l in range(thisDF.shape[0]):\n",
    "        #check that region name exists in the dictionary\n",
    "        #print(thisDF.loc[thisDF.index[l],'RegionID'])\n",
    "        if thisDF.loc[thisDF.index[l],'RegionName'] in NYregions.itervalues():\n",
    "            #cycle through diction to get key\n",
    "            for k in range(len(NYregions)):\n",
    "                if  thisDF.loc[thisDF.index[l],'RegionName'] == NYregions[rkeys[k]]:\n",
    "                    thisDF.loc[thisDF.index[l],'RegionID'] = rkeys[k]\n",
    "                    break\n",
    "    return thisDF\n",
    "\n",
    "def saveCSV(thisDF, name):\n",
    "    now = datetime.datetime.now()\n",
    "    thisDF.to_csv(path_or_buf='output/NYC_%s_%s_%s.csv' %(name, now.month, now.day))\n",
    "\n",
    "#this variable sets the date range of the data\n",
    "theseYears=5\n",
    "\n",
    "def lastFewYears(thisDF, frontColumns, years):\n",
    "    years = years * -12\n",
    "    dropCol=thisDF.columns[frontColumns:years]\n",
    "    thisDF = thisDF.drop(dropCol,axis=1)\n",
    "    return thisDF\n",
    "\n",
    "def plotNeighborhoods(thisDF):\n",
    "    pID = thisDF['RegionID']\n",
    "    pName = []\n",
    "    for rn in range(pID.shape[0]):\n",
    "        #print(NYregions[pID.iloc[rn]])\n",
    "        pName.append(NYregions[pID.iloc[rn]])\n",
    "    #print(pName)\n",
    "    thisPlot=nyc_gdf[nyc_gdf.Name.isin(pName)]\n",
    "    notPlot=nyc_gdf[nyc_gdf.Name.isin(pName)==False]\n",
    "    \n",
    "    fig, ax = plt.subplots(figsize=(8,12))\n",
    "    notPlot.plot(ax=ax, color='w',edgecolor='black', alpha=0.2)\n",
    "    thisPlot.plot(ax=ax, color='g',edgecolor='black', alpha=0.2)\n",
    "    \n",
    "    #for labeling\n",
    "    '''\n",
    "    for idx, row in thisPlot.iterrows():\n",
    "        plt.annotate(s=row['Name'], xy=row['coords'], color='Black', horizontalalignment='center', size=10)\n",
    "    '''\n",
    "    plt.show()\n",
    "\n",
    "\n",
    "def countNull(DFtest):\n",
    "    for nr in range(DFtest.shape[0]):\n",
    "        ts = DFtest.iloc[nr,-60:].isnull().sum()\n",
    "        if ts != 0:\n",
    "            print(ts)\n",
    "\n",
    "# sets threshhold for how many months of missing data is OK\n",
    "DthreshVar = 9\n",
    "\n",
    "def dropThese(dropDF, Dthresh):\n",
    "    dropThis = dropDF\n",
    "    #print(dropDF.shape[0])\n",
    "    for d in range(dropDF.shape[0]):\n",
    "        if dropDF.iloc[d,-60:].isnull().sum() > Dthresh:\n",
    "            dropThis = dropThis.drop(dropDF.index[d])\n",
    "    #print(dropThis.shape[0])\n",
    "    print('%d rows dropped with more than %d missing months.' %((dropDF.shape[0] - dropThis.shape[0]),Dthresh))\n",
    "    return dropThis"
   ]
  },
  {
   "cell_type": "markdown",
   "metadata": {},
   "source": [
    "# Get Zillow Neighborhoods\n",
    "Make a dictionary of zillow neighborhoods based on their geopandas files."
   ]
  },
  {
   "cell_type": "code",
   "execution_count": 5,
   "metadata": {},
   "outputs": [
    {
     "name": "stderr",
     "output_type": "stream",
     "text": [
      "C:\\ProgramData\\Anaconda2\\lib\\site-packages\\ipykernel_launcher.py:10: SettingWithCopyWarning: \n",
      "A value is trying to be set on a copy of a slice from a DataFrame.\n",
      "Try using .loc[row_indexer,col_indexer] = value instead\n",
      "\n",
      "See the caveats in the documentation: http://pandas.pydata.org/pandas-docs/stable/indexing.html#indexing-view-versus-copy\n",
      "  # Remove the CWD from sys.path while we load stuff.\n",
      "C:\\ProgramData\\Anaconda2\\lib\\site-packages\\ipykernel_launcher.py:11: SettingWithCopyWarning: \n",
      "A value is trying to be set on a copy of a slice from a DataFrame.\n",
      "Try using .loc[row_indexer,col_indexer] = value instead\n",
      "\n",
      "See the caveats in the documentation: http://pandas.pydata.org/pandas-docs/stable/indexing.html#indexing-view-versus-copy\n",
      "  # This is added back by InteractiveShellApp.init_path()\n"
     ]
    },
    {
     "data": {
      "text/html": [
       "<div>\n",
       "<style scoped>\n",
       "    .dataframe tbody tr th:only-of-type {\n",
       "        vertical-align: middle;\n",
       "    }\n",
       "\n",
       "    .dataframe tbody tr th {\n",
       "        vertical-align: top;\n",
       "    }\n",
       "\n",
       "    .dataframe thead th {\n",
       "        text-align: right;\n",
       "    }\n",
       "</style>\n",
       "<table border=\"1\" class=\"dataframe\">\n",
       "  <thead>\n",
       "    <tr style=\"text-align: right;\">\n",
       "      <th></th>\n",
       "      <th>State</th>\n",
       "      <th>County</th>\n",
       "      <th>City</th>\n",
       "      <th>Name</th>\n",
       "      <th>RegionID</th>\n",
       "      <th>geometry</th>\n",
       "      <th>coords</th>\n",
       "    </tr>\n",
       "  </thead>\n",
       "  <tbody>\n",
       "    <tr>\n",
       "      <th>2</th>\n",
       "      <td>NY</td>\n",
       "      <td>Queens</td>\n",
       "      <td>New York</td>\n",
       "      <td>Rego Park</td>\n",
       "      <td>6719</td>\n",
       "      <td>POLYGON ((-73.85629999999999 40.72303000000012...</td>\n",
       "      <td>(-73.8621239628, 40.7222061023)</td>\n",
       "    </tr>\n",
       "    <tr>\n",
       "      <th>5</th>\n",
       "      <td>NY</td>\n",
       "      <td>Queens</td>\n",
       "      <td>New York</td>\n",
       "      <td>Belle Harbor</td>\n",
       "      <td>10329</td>\n",
       "      <td>POLYGON ((-73.85618223699993 40.56810940300005...</td>\n",
       "      <td>(-73.853686937, 40.575575506)</td>\n",
       "    </tr>\n",
       "    <tr>\n",
       "      <th>10</th>\n",
       "      <td>NY</td>\n",
       "      <td>New York</td>\n",
       "      <td>New York</td>\n",
       "      <td>Roosevelt Island</td>\n",
       "      <td>20239</td>\n",
       "      <td>POLYGON ((-73.96143117599991 40.74851331600007...</td>\n",
       "      <td>(-73.9504153048, 40.7610824865)</td>\n",
       "    </tr>\n",
       "    <tr>\n",
       "      <th>13</th>\n",
       "      <td>NY</td>\n",
       "      <td>Queens</td>\n",
       "      <td>New York</td>\n",
       "      <td>Howard Beach</td>\n",
       "      <td>21970</td>\n",
       "      <td>POLYGON ((-73.85608525799972 40.65037135900031...</td>\n",
       "      <td>(-73.8456830487, 40.6573991662)</td>\n",
       "    </tr>\n",
       "    <tr>\n",
       "      <th>16</th>\n",
       "      <td>NY</td>\n",
       "      <td>Queens</td>\n",
       "      <td>New York</td>\n",
       "      <td>Breezy Point</td>\n",
       "      <td>37557</td>\n",
       "      <td>POLYGON ((-73.90962826099991 40.56552556300005...</td>\n",
       "      <td>(-73.9258913812, 40.5533548185)</td>\n",
       "    </tr>\n",
       "  </tbody>\n",
       "</table>\n",
       "</div>"
      ],
      "text/plain": [
       "   State    County      City              Name RegionID  \\\n",
       "2     NY    Queens  New York         Rego Park     6719   \n",
       "5     NY    Queens  New York      Belle Harbor    10329   \n",
       "10    NY  New York  New York  Roosevelt Island    20239   \n",
       "13    NY    Queens  New York      Howard Beach    21970   \n",
       "16    NY    Queens  New York      Breezy Point    37557   \n",
       "\n",
       "                                             geometry  \\\n",
       "2   POLYGON ((-73.85629999999999 40.72303000000012...   \n",
       "5   POLYGON ((-73.85618223699993 40.56810940300005...   \n",
       "10  POLYGON ((-73.96143117599991 40.74851331600007...   \n",
       "13  POLYGON ((-73.85608525799972 40.65037135900031...   \n",
       "16  POLYGON ((-73.90962826099991 40.56552556300005...   \n",
       "\n",
       "                             coords  \n",
       "2   (-73.8621239628, 40.7222061023)  \n",
       "5     (-73.853686937, 40.575575506)  \n",
       "10  (-73.9504153048, 40.7610824865)  \n",
       "13  (-73.8456830487, 40.6573991662)  \n",
       "16  (-73.9258913812, 40.5533548185)  "
      ]
     },
     "execution_count": 5,
     "metadata": {},
     "output_type": "execute_result"
    }
   ],
   "source": [
    "county = ['Kings','Queens','New York','Bronx','Richmond']\n",
    "#hoods  = ['Bedford Stuyvesant']\n",
    "\n",
    "ny_gdf=gpd.read_file('data/zillowGeo/ZillowNeighborhoods-NY.shp')\n",
    "#print(ny_gdf.head())\n",
    "nyc_gdf=ny_gdf[ny_gdf.County.isin(county)]\n",
    "#print(nyc_gdf.iloc[100:400,:4].head())\n",
    "\n",
    "# locate coordinate points to plot neighborhood names\n",
    "nyc_gdf['coords'] = nyc_gdf['geometry'].apply(lambda x: x.representative_point().coords[:])\n",
    "nyc_gdf['coords'] = [coords[0] for coords in nyc_gdf['coords']]\n",
    "#nyc_gdf = nyc_gdf.sort_values('Name').reset_index(drop=True)\n",
    "\n",
    "nyc_gdf.head()"
   ]
  },
  {
   "cell_type": "markdown",
   "metadata": {},
   "source": [
    "### Create Dictionary of Neighborhoods\n",
    "\n",
    "I'm using the filtered percent decrease data set because it seems like the most complete.\n",
    "<p>\n",
    "    Notes on the dictionary:<br>\n",
    "    SoHo not Soho\n",
    "</p>"
   ]
  },
  {
   "cell_type": "code",
   "execution_count": 6,
   "metadata": {
    "scrolled": false
   },
   "outputs": [
    {
     "data": {
      "text/plain": [
       "274"
      ]
     },
     "execution_count": 6,
     "metadata": {},
     "output_type": "execute_result"
    }
   ],
   "source": [
    "NYregions = makeDict(nyc_gdf['RegionID'],nyc_gdf['Name'])\n",
    "\n",
    "len(NYregions)"
   ]
  },
  {
   "cell_type": "code",
   "execution_count": 7,
   "metadata": {},
   "outputs": [],
   "source": [
    "#neighborhoods missing from the dictionary\n",
    "missingNeighborhoods =['Soho','SoHo']"
   ]
  },
  {
   "cell_type": "code",
   "execution_count": 8,
   "metadata": {},
   "outputs": [
    {
     "name": "stdout",
     "output_type": "stream",
     "text": [
      "False\n",
      "True\n"
     ]
    }
   ],
   "source": [
    "for m in range(len(missingNeighborhoods)):\n",
    "    bool = missingNeighborhoods[m] in NYregions.itervalues()\n",
    "    print(bool)"
   ]
  },
  {
   "cell_type": "markdown",
   "metadata": {},
   "source": [
    "# Load data and do basic filtering\n",
    "\n",
    "### Data Quality Filtering\n",
    "1) date range <br>\n",
    "#### 2) NaN<br>\n",
    "3) drop seasonal adjustment if applicable\n",
    "\n",
    "### Geographic Filtering\n",
    "1) filter by city or regionID via dictionary if city isn't available. REGION IDs GET REPEATED IN DIFFERENT CITIES. BE AWARE WHEN FILTERING!<br>\n",
    "2) add RegionID column if not present<br>\n",
    "\n",
    "#### 3)  check how much of the city is represented in that data<br>\n",
    "4) Make sure RegionID is a string\n"
   ]
  },
  {
   "cell_type": "markdown",
   "metadata": {},
   "source": [
    "### Feature 1 - Listing Price"
   ]
  },
  {
   "cell_type": "code",
   "execution_count": 9,
   "metadata": {},
   "outputs": [],
   "source": [
    "salesprice=pd.read_csv(featureOne) #sales prices\n",
    "#salesprice.head()"
   ]
  },
  {
   "cell_type": "code",
   "execution_count": 10,
   "metadata": {},
   "outputs": [],
   "source": [
    "NYsalesprice = filterThis(salesprice, 'City','New York')\n",
    "#NYsalesprice = salesprice"
   ]
  },
  {
   "cell_type": "code",
   "execution_count": 11,
   "metadata": {},
   "outputs": [],
   "source": [
    "NYsalesprice = lastFewYears(NYsalesprice, 6,theseYears)\n",
    "#NYsalesprice.head()"
   ]
  },
  {
   "cell_type": "code",
   "execution_count": 12,
   "metadata": {},
   "outputs": [
    {
     "data": {
      "text/plain": [
       "(97, 66)"
      ]
     },
     "execution_count": 12,
     "metadata": {},
     "output_type": "execute_result"
    }
   ],
   "source": [
    "NYsalesprice.shape"
   ]
  },
  {
   "cell_type": "code",
   "execution_count": 13,
   "metadata": {},
   "outputs": [
    {
     "data": {
      "text/html": [
       "<div>\n",
       "<style scoped>\n",
       "    .dataframe tbody tr th:only-of-type {\n",
       "        vertical-align: middle;\n",
       "    }\n",
       "\n",
       "    .dataframe tbody tr th {\n",
       "        vertical-align: top;\n",
       "    }\n",
       "\n",
       "    .dataframe thead th {\n",
       "        text-align: right;\n",
       "    }\n",
       "</style>\n",
       "<table border=\"1\" class=\"dataframe\">\n",
       "  <thead>\n",
       "    <tr style=\"text-align: right;\">\n",
       "      <th></th>\n",
       "      <th>RegionID</th>\n",
       "      <th>RegionName</th>\n",
       "      <th>City</th>\n",
       "      <th>State</th>\n",
       "      <th>Metro</th>\n",
       "      <th>CountyName</th>\n",
       "      <th>SizeRank</th>\n",
       "      <th>2013-10</th>\n",
       "      <th>2013-11</th>\n",
       "      <th>2013-12</th>\n",
       "      <th>...</th>\n",
       "      <th>2017-12</th>\n",
       "      <th>2018-01</th>\n",
       "      <th>2018-02</th>\n",
       "      <th>2018-03</th>\n",
       "      <th>2018-04</th>\n",
       "      <th>2018-05</th>\n",
       "      <th>2018-06</th>\n",
       "      <th>2018-07</th>\n",
       "      <th>2018-08</th>\n",
       "      <th>2018-09</th>\n",
       "    </tr>\n",
       "  </thead>\n",
       "  <tbody>\n",
       "    <tr>\n",
       "      <th>7</th>\n",
       "      <td>194430</td>\n",
       "      <td>East New York</td>\n",
       "      <td>New York</td>\n",
       "      <td>NY</td>\n",
       "      <td>New York-Newark-Jersey City</td>\n",
       "      <td>Kings</td>\n",
       "      <td>8</td>\n",
       "      <td>260.017050</td>\n",
       "      <td>250.156740</td>\n",
       "      <td>246.492233</td>\n",
       "      <td>...</td>\n",
       "      <td>383.093350</td>\n",
       "      <td>384.136858</td>\n",
       "      <td>383.411581</td>\n",
       "      <td>388.440169</td>\n",
       "      <td>386.289445</td>\n",
       "      <td>388.440169</td>\n",
       "      <td>390.303891</td>\n",
       "      <td>401.021950</td>\n",
       "      <td>399.305556</td>\n",
       "      <td>405.526576</td>\n",
       "    </tr>\n",
       "    <tr>\n",
       "      <th>11</th>\n",
       "      <td>272816</td>\n",
       "      <td>Astoria</td>\n",
       "      <td>New York</td>\n",
       "      <td>NY</td>\n",
       "      <td>New York-Newark-Jersey City</td>\n",
       "      <td>Queens</td>\n",
       "      <td>12</td>\n",
       "      <td>NaN</td>\n",
       "      <td>NaN</td>\n",
       "      <td>NaN</td>\n",
       "      <td>...</td>\n",
       "      <td>1062.500000</td>\n",
       "      <td>1051.346604</td>\n",
       "      <td>1011.713244</td>\n",
       "      <td>966.666667</td>\n",
       "      <td>995.629415</td>\n",
       "      <td>991.721854</td>\n",
       "      <td>959.677419</td>\n",
       "      <td>942.013397</td>\n",
       "      <td>944.767442</td>\n",
       "      <td>959.677419</td>\n",
       "    </tr>\n",
       "    <tr>\n",
       "      <th>13</th>\n",
       "      <td>272902</td>\n",
       "      <td>Bedford Stuyvesant</td>\n",
       "      <td>New York</td>\n",
       "      <td>NY</td>\n",
       "      <td>New York-Newark-Jersey City</td>\n",
       "      <td>Kings</td>\n",
       "      <td>14</td>\n",
       "      <td>NaN</td>\n",
       "      <td>NaN</td>\n",
       "      <td>NaN</td>\n",
       "      <td>...</td>\n",
       "      <td>837.138508</td>\n",
       "      <td>846.022843</td>\n",
       "      <td>846.022843</td>\n",
       "      <td>866.319444</td>\n",
       "      <td>887.392666</td>\n",
       "      <td>882.933285</td>\n",
       "      <td>887.096774</td>\n",
       "      <td>887.392666</td>\n",
       "      <td>865.384615</td>\n",
       "      <td>887.573964</td>\n",
       "    </tr>\n",
       "    <tr>\n",
       "      <th>14</th>\n",
       "      <td>199001</td>\n",
       "      <td>Williamsburg</td>\n",
       "      <td>New York</td>\n",
       "      <td>NY</td>\n",
       "      <td>New York-Newark-Jersey City</td>\n",
       "      <td>Kings</td>\n",
       "      <td>15</td>\n",
       "      <td>976.232089</td>\n",
       "      <td>870.983143</td>\n",
       "      <td>870.630401</td>\n",
       "      <td>...</td>\n",
       "      <td>1336.304700</td>\n",
       "      <td>1317.301071</td>\n",
       "      <td>1316.795087</td>\n",
       "      <td>1294.207317</td>\n",
       "      <td>1265.000000</td>\n",
       "      <td>1258.620690</td>\n",
       "      <td>1246.775580</td>\n",
       "      <td>1268.805732</td>\n",
       "      <td>1250.000000</td>\n",
       "      <td>1252.930819</td>\n",
       "    </tr>\n",
       "    <tr>\n",
       "      <th>20</th>\n",
       "      <td>403222</td>\n",
       "      <td>Crown Heights</td>\n",
       "      <td>New York</td>\n",
       "      <td>NY</td>\n",
       "      <td>New York-Newark-Jersey City</td>\n",
       "      <td>Kings</td>\n",
       "      <td>21</td>\n",
       "      <td>NaN</td>\n",
       "      <td>NaN</td>\n",
       "      <td>NaN</td>\n",
       "      <td>...</td>\n",
       "      <td>884.409203</td>\n",
       "      <td>880.177515</td>\n",
       "      <td>852.782765</td>\n",
       "      <td>847.624259</td>\n",
       "      <td>841.535433</td>\n",
       "      <td>841.715976</td>\n",
       "      <td>828.448762</td>\n",
       "      <td>800.036809</td>\n",
       "      <td>790.909091</td>\n",
       "      <td>809.626950</td>\n",
       "    </tr>\n",
       "  </tbody>\n",
       "</table>\n",
       "<p>5 rows × 67 columns</p>\n",
       "</div>"
      ],
      "text/plain": [
       "   RegionID          RegionName      City State                        Metro  \\\n",
       "7    194430       East New York  New York    NY  New York-Newark-Jersey City   \n",
       "11   272816             Astoria  New York    NY  New York-Newark-Jersey City   \n",
       "13   272902  Bedford Stuyvesant  New York    NY  New York-Newark-Jersey City   \n",
       "14   199001        Williamsburg  New York    NY  New York-Newark-Jersey City   \n",
       "20   403222       Crown Heights  New York    NY  New York-Newark-Jersey City   \n",
       "\n",
       "   CountyName  SizeRank     2013-10     2013-11     2013-12     ...       \\\n",
       "7       Kings         8  260.017050  250.156740  246.492233     ...        \n",
       "11     Queens        12         NaN         NaN         NaN     ...        \n",
       "13      Kings        14         NaN         NaN         NaN     ...        \n",
       "14      Kings        15  976.232089  870.983143  870.630401     ...        \n",
       "20      Kings        21         NaN         NaN         NaN     ...        \n",
       "\n",
       "        2017-12      2018-01      2018-02      2018-03      2018-04  \\\n",
       "7    383.093350   384.136858   383.411581   388.440169   386.289445   \n",
       "11  1062.500000  1051.346604  1011.713244   966.666667   995.629415   \n",
       "13   837.138508   846.022843   846.022843   866.319444   887.392666   \n",
       "14  1336.304700  1317.301071  1316.795087  1294.207317  1265.000000   \n",
       "20   884.409203   880.177515   852.782765   847.624259   841.535433   \n",
       "\n",
       "        2018-05      2018-06      2018-07      2018-08      2018-09  \n",
       "7    388.440169   390.303891   401.021950   399.305556   405.526576  \n",
       "11   991.721854   959.677419   942.013397   944.767442   959.677419  \n",
       "13   882.933285   887.096774   887.392666   865.384615   887.573964  \n",
       "14  1258.620690  1246.775580  1268.805732  1250.000000  1252.930819  \n",
       "20   841.715976   828.448762   800.036809   790.909091   809.626950  \n",
       "\n",
       "[5 rows x 67 columns]"
      ]
     },
     "execution_count": 13,
     "metadata": {},
     "output_type": "execute_result"
    }
   ],
   "source": [
    "#add region ID\n",
    "NYsalespriceID = makeRegID(NYsalesprice)\n",
    "#NYsalespriceID=NYsalesprice\n",
    "NYsalespriceID.head()"
   ]
  },
  {
   "cell_type": "code",
   "execution_count": 14,
   "metadata": {},
   "outputs": [
    {
     "name": "stdout",
     "output_type": "stream",
     "text": [
      "37 rows dropped with more than 9 missing months.\n",
      "There are 60 usable neighborhoods.\n"
     ]
    },
    {
     "data": {
      "text/html": [
       "<div>\n",
       "<style scoped>\n",
       "    .dataframe tbody tr th:only-of-type {\n",
       "        vertical-align: middle;\n",
       "    }\n",
       "\n",
       "    .dataframe tbody tr th {\n",
       "        vertical-align: top;\n",
       "    }\n",
       "\n",
       "    .dataframe thead th {\n",
       "        text-align: right;\n",
       "    }\n",
       "</style>\n",
       "<table border=\"1\" class=\"dataframe\">\n",
       "  <thead>\n",
       "    <tr style=\"text-align: right;\">\n",
       "      <th></th>\n",
       "      <th>RegionID</th>\n",
       "      <th>RegionName</th>\n",
       "      <th>City</th>\n",
       "      <th>State</th>\n",
       "      <th>Metro</th>\n",
       "      <th>CountyName</th>\n",
       "      <th>SizeRank</th>\n",
       "      <th>2013-10</th>\n",
       "      <th>2013-11</th>\n",
       "      <th>2013-12</th>\n",
       "      <th>...</th>\n",
       "      <th>2017-12</th>\n",
       "      <th>2018-01</th>\n",
       "      <th>2018-02</th>\n",
       "      <th>2018-03</th>\n",
       "      <th>2018-04</th>\n",
       "      <th>2018-05</th>\n",
       "      <th>2018-06</th>\n",
       "      <th>2018-07</th>\n",
       "      <th>2018-08</th>\n",
       "      <th>2018-09</th>\n",
       "    </tr>\n",
       "  </thead>\n",
       "  <tbody>\n",
       "    <tr>\n",
       "      <th>7</th>\n",
       "      <td>194430</td>\n",
       "      <td>East New York</td>\n",
       "      <td>New York</td>\n",
       "      <td>NY</td>\n",
       "      <td>New York-Newark-Jersey City</td>\n",
       "      <td>Kings</td>\n",
       "      <td>8</td>\n",
       "      <td>260.017050</td>\n",
       "      <td>250.156740</td>\n",
       "      <td>246.492233</td>\n",
       "      <td>...</td>\n",
       "      <td>383.093350</td>\n",
       "      <td>384.136858</td>\n",
       "      <td>383.411581</td>\n",
       "      <td>388.440169</td>\n",
       "      <td>386.289445</td>\n",
       "      <td>388.440169</td>\n",
       "      <td>390.303891</td>\n",
       "      <td>401.021950</td>\n",
       "      <td>399.305556</td>\n",
       "      <td>405.526576</td>\n",
       "    </tr>\n",
       "    <tr>\n",
       "      <th>14</th>\n",
       "      <td>199001</td>\n",
       "      <td>Williamsburg</td>\n",
       "      <td>New York</td>\n",
       "      <td>NY</td>\n",
       "      <td>New York-Newark-Jersey City</td>\n",
       "      <td>Kings</td>\n",
       "      <td>15</td>\n",
       "      <td>976.232089</td>\n",
       "      <td>870.983143</td>\n",
       "      <td>870.630401</td>\n",
       "      <td>...</td>\n",
       "      <td>1336.304700</td>\n",
       "      <td>1317.301071</td>\n",
       "      <td>1316.795087</td>\n",
       "      <td>1294.207317</td>\n",
       "      <td>1265.000000</td>\n",
       "      <td>1258.620690</td>\n",
       "      <td>1246.775580</td>\n",
       "      <td>1268.805732</td>\n",
       "      <td>1250.000000</td>\n",
       "      <td>1252.930819</td>\n",
       "    </tr>\n",
       "    <tr>\n",
       "      <th>21</th>\n",
       "      <td>25294</td>\n",
       "      <td>Jamaica</td>\n",
       "      <td>New York</td>\n",
       "      <td>NY</td>\n",
       "      <td>New York-Newark-Jersey City</td>\n",
       "      <td>Queens</td>\n",
       "      <td>22</td>\n",
       "      <td>273.666250</td>\n",
       "      <td>279.805353</td>\n",
       "      <td>285.838079</td>\n",
       "      <td>...</td>\n",
       "      <td>389.235009</td>\n",
       "      <td>398.063781</td>\n",
       "      <td>398.063781</td>\n",
       "      <td>401.253266</td>\n",
       "      <td>425.378117</td>\n",
       "      <td>424.678437</td>\n",
       "      <td>424.241667</td>\n",
       "      <td>435.897436</td>\n",
       "      <td>433.274426</td>\n",
       "      <td>429.879531</td>\n",
       "    </tr>\n",
       "    <tr>\n",
       "      <th>22</th>\n",
       "      <td>195267</td>\n",
       "      <td>Harlem</td>\n",
       "      <td>New York</td>\n",
       "      <td>NY</td>\n",
       "      <td>New York-Newark-Jersey City</td>\n",
       "      <td>New York</td>\n",
       "      <td>23</td>\n",
       "      <td>767.248995</td>\n",
       "      <td>690.833333</td>\n",
       "      <td>691.080986</td>\n",
       "      <td>...</td>\n",
       "      <td>959.384413</td>\n",
       "      <td>936.806898</td>\n",
       "      <td>901.810585</td>\n",
       "      <td>917.416359</td>\n",
       "      <td>940.118679</td>\n",
       "      <td>965.174129</td>\n",
       "      <td>954.773869</td>\n",
       "      <td>966.632004</td>\n",
       "      <td>937.254902</td>\n",
       "      <td>989.780120</td>\n",
       "    </tr>\n",
       "    <tr>\n",
       "      <th>25</th>\n",
       "      <td>270828</td>\n",
       "      <td>East Harlem</td>\n",
       "      <td>New York</td>\n",
       "      <td>NY</td>\n",
       "      <td>New York-Newark-Jersey City</td>\n",
       "      <td>New York</td>\n",
       "      <td>26</td>\n",
       "      <td>853.934571</td>\n",
       "      <td>825.504587</td>\n",
       "      <td>779.277108</td>\n",
       "      <td>...</td>\n",
       "      <td>1221.566589</td>\n",
       "      <td>1231.221562</td>\n",
       "      <td>1201.923077</td>\n",
       "      <td>1153.187848</td>\n",
       "      <td>1201.923077</td>\n",
       "      <td>1192.639307</td>\n",
       "      <td>1198.795181</td>\n",
       "      <td>1187.862305</td>\n",
       "      <td>1189.340815</td>\n",
       "      <td>1190.105902</td>\n",
       "    </tr>\n",
       "  </tbody>\n",
       "</table>\n",
       "<p>5 rows × 67 columns</p>\n",
       "</div>"
      ],
      "text/plain": [
       "   RegionID     RegionName      City State                        Metro  \\\n",
       "7    194430  East New York  New York    NY  New York-Newark-Jersey City   \n",
       "14   199001   Williamsburg  New York    NY  New York-Newark-Jersey City   \n",
       "21    25294        Jamaica  New York    NY  New York-Newark-Jersey City   \n",
       "22   195267         Harlem  New York    NY  New York-Newark-Jersey City   \n",
       "25   270828    East Harlem  New York    NY  New York-Newark-Jersey City   \n",
       "\n",
       "   CountyName  SizeRank     2013-10     2013-11     2013-12     ...       \\\n",
       "7       Kings         8  260.017050  250.156740  246.492233     ...        \n",
       "14      Kings        15  976.232089  870.983143  870.630401     ...        \n",
       "21     Queens        22  273.666250  279.805353  285.838079     ...        \n",
       "22   New York        23  767.248995  690.833333  691.080986     ...        \n",
       "25   New York        26  853.934571  825.504587  779.277108     ...        \n",
       "\n",
       "        2017-12      2018-01      2018-02      2018-03      2018-04  \\\n",
       "7    383.093350   384.136858   383.411581   388.440169   386.289445   \n",
       "14  1336.304700  1317.301071  1316.795087  1294.207317  1265.000000   \n",
       "21   389.235009   398.063781   398.063781   401.253266   425.378117   \n",
       "22   959.384413   936.806898   901.810585   917.416359   940.118679   \n",
       "25  1221.566589  1231.221562  1201.923077  1153.187848  1201.923077   \n",
       "\n",
       "        2018-05      2018-06      2018-07      2018-08      2018-09  \n",
       "7    388.440169   390.303891   401.021950   399.305556   405.526576  \n",
       "14  1258.620690  1246.775580  1268.805732  1250.000000  1252.930819  \n",
       "21   424.678437   424.241667   435.897436   433.274426   429.879531  \n",
       "22   965.174129   954.773869   966.632004   937.254902   989.780120  \n",
       "25  1192.639307  1198.795181  1187.862305  1189.340815  1190.105902  \n",
       "\n",
       "[5 rows x 67 columns]"
      ]
     },
     "execution_count": 14,
     "metadata": {},
     "output_type": "execute_result"
    }
   ],
   "source": [
    "#completeSP = NYsalespriceID.dropna()\n",
    "\n",
    "SPdrop = dropThese(NYsalespriceID, DthreshVar)\n",
    "\n",
    "print('There are %d usable neighborhoods.' %SPdrop.shape[0])\n",
    "\n",
    "SPdrop.RegionID = SPdrop.RegionID.astype(str)\n",
    "\n",
    "SPdrop.head()"
   ]
  },
  {
   "cell_type": "code",
   "execution_count": 15,
   "metadata": {},
   "outputs": [
    {
     "data": {
      "image/png": "[encoded data removed]",
      "text/plain": [
       "<matplotlib.figure.Figure at 0x12d68588>"
      ]
     },
     "metadata": {},
     "output_type": "display_data"
    }
   ],
   "source": [
    "plotNeighborhoods(SPdrop)"
   ]
  },
  {
   "cell_type": "code",
   "execution_count": 36,
   "metadata": {},
   "outputs": [
    {
     "data": {
      "text/plain": [
       "['Astoria',\n",
       " 'Eltingville',\n",
       " 'St. Albans',\n",
       " 'Annadale',\n",
       " 'Gerritsen Beach',\n",
       " 'Utopia',\n",
       " 'East Jamaica Bay Islands',\n",
       " 'Inwood',\n",
       " 'Fresh Kills Park',\n",
       " 'Elm Park',\n",
       " 'Country Club',\n",
       " 'Morningside Heights',\n",
       " 'Eastchester',\n",
       " 'Navy Yard',\n",
       " 'Williamsbridge',\n",
       " 'New Utrecht',\n",
       " 'New Springville',\n",
       " 'Bedford Park',\n",
       " 'Malba',\n",
       " 'Upper West Side',\n",
       " 'Castle Hill',\n",
       " 'Silver Lake',\n",
       " 'Clinton Hill',\n",
       " 'Bergen Beach',\n",
       " 'Concourse',\n",
       " 'Tribeca',\n",
       " 'Todt Hill',\n",
       " 'Turtle Bay',\n",
       " 'Tudor City',\n",
       " 'Stuyvesant Town',\n",
       " 'Fort Tilden',\n",
       " 'South Beach',\n",
       " 'Flatiron District',\n",
       " 'Westchester Heights',\n",
       " 'Clason Point',\n",
       " 'Randals-Wards Island',\n",
       " 'Battery Park',\n",
       " 'Corona',\n",
       " 'Fort Wadsworth',\n",
       " 'Stapleton',\n",
       " 'Midtown',\n",
       " 'Marine Park',\n",
       " 'Marble Hill',\n",
       " 'Jamaica',\n",
       " 'Elmhurst',\n",
       " 'Willowbrook',\n",
       " 'Mill Basin',\n",
       " 'West Village',\n",
       " 'Sunset Park',\n",
       " 'Vinegar Hill',\n",
       " 'John F. Kennedy International Airport',\n",
       " 'Van Nest',\n",
       " 'Rego Park',\n",
       " 'Harlem',\n",
       " 'Wingate',\n",
       " 'Murray Hill',\n",
       " 'Butler Manor',\n",
       " 'Bensonhurst',\n",
       " 'Homecrest',\n",
       " 'Middle Village',\n",
       " 'Blissville',\n",
       " 'Bay Terrace',\n",
       " 'Grant City',\n",
       " 'Fort Greene',\n",
       " 'Oakwood',\n",
       " 'Norwood',\n",
       " 'Sunnyside',\n",
       " 'West Jamaica Bay Islands',\n",
       " 'Graniteville',\n",
       " 'La Tourette Park',\n",
       " 'Woodhaven',\n",
       " 'Kew Gardens Hills',\n",
       " 'Park Hill',\n",
       " 'Morris Heights',\n",
       " 'Belle Harbor',\n",
       " 'Roxbury',\n",
       " 'Huguenot',\n",
       " 'Rochdale',\n",
       " 'Prospect Lefferts Gardens',\n",
       " 'Prospect Heights',\n",
       " 'Flushing Meadows Corona Park',\n",
       " 'Carroll Gardens',\n",
       " 'Floral park',\n",
       " 'Cambria Heights',\n",
       " 'Far Rockaway',\n",
       " 'Brighton Beach',\n",
       " 'Hunts Point',\n",
       " 'Mott Haven',\n",
       " 'Sheepshead Bay',\n",
       " 'Woodlawn',\n",
       " 'City Island',\n",
       " 'Melrose',\n",
       " 'Manhattanville',\n",
       " 'East Tremont',\n",
       " 'Lighthouse Hill',\n",
       " 'Shore Acres',\n",
       " 'NoHo',\n",
       " 'Port Richmond',\n",
       " 'Port Morris',\n",
       " 'Lower East Side',\n",
       " 'Murray Hill',\n",
       " 'Richmond Valley',\n",
       " 'Kingsbridge',\n",
       " 'Manhattan Beach',\n",
       " 'Tompkinsville',\n",
       " 'Oakland Gardens',\n",
       " 'Arden Heights',\n",
       " 'Greenridge',\n",
       " 'Fort Hamilton',\n",
       " 'South Bronx',\n",
       " 'Carnegie Hill',\n",
       " 'Tremont',\n",
       " 'Fordham',\n",
       " 'University Heights',\n",
       " 'Morris Park',\n",
       " 'Parkchester',\n",
       " 'Throggs Neck',\n",
       " 'High Bridge',\n",
       " 'Red Hook',\n",
       " 'New Dorp',\n",
       " 'New Dorp Beach',\n",
       " 'Spuyten Duyvil',\n",
       " 'Glen Oaks',\n",
       " 'Riverdale',\n",
       " 'Columbus Circle',\n",
       " 'Meiers Corners',\n",
       " 'Douglaston-Little Neck',\n",
       " 'Floyd Bennett Field',\n",
       " 'Brooklyn Heights',\n",
       " 'Bay Terrace',\n",
       " 'Bellerose',\n",
       " 'Pelham Bay',\n",
       " 'Old Town',\n",
       " 'Fresh Kills',\n",
       " 'Ocean Hill',\n",
       " 'Cobble Hill',\n",
       " 'North Riverdale',\n",
       " 'Jamaica Hills',\n",
       " 'Fresh Meadows',\n",
       " 'Whitestone',\n",
       " 'Pelham Gardens',\n",
       " 'Wakefield',\n",
       " 'Clove Lake',\n",
       " 'Co-op City',\n",
       " 'Richmond Town',\n",
       " 'West Brighton',\n",
       " 'Springfield Gardens',\n",
       " 'St. George',\n",
       " 'Chelsea',\n",
       " 'Clinton',\n",
       " 'Chelsea-Travis',\n",
       " 'Belmont',\n",
       " 'New Brighton',\n",
       " 'Castleton Corners',\n",
       " 'Holliswood',\n",
       " 'Bay Ridge',\n",
       " 'College Point',\n",
       " 'Hunters Point',\n",
       " 'Hamilton Heights',\n",
       " 'Upper East Side',\n",
       " 'Hart Island',\n",
       " 'Heartland Village',\n",
       " 'Bath Beach',\n",
       " 'Bloomfield',\n",
       " 'Emerson Hill',\n",
       " 'Prospect Park South',\n",
       " 'Randall Manor',\n",
       " 'Roosevelt Island',\n",
       " 'Rosebank',\n",
       " \"Prince's Bay\",\n",
       " 'Breezy Point',\n",
       " 'Baychester',\n",
       " 'Bulls Head',\n",
       " 'Greenwich Village',\n",
       " 'Mill Rock Park',\n",
       " 'Rosedale',\n",
       " 'Ridgewood',\n",
       " 'Ellis Island',\n",
       " 'Briarwood',\n",
       " 'Boerum Hill',\n",
       " 'Queens Village',\n",
       " 'Tottenville',\n",
       " 'Broad Channel',\n",
       " 'DUMBO',\n",
       " 'Columbia Street Waterfront District',\n",
       " 'Gowanus',\n",
       " 'Pomonok',\n",
       " 'West Farms',\n",
       " 'Charleston',\n",
       " 'Greenpoint',\n",
       " 'Dyker Heights',\n",
       " 'Chinatown',\n",
       " 'Ocean Parkway',\n",
       " 'Rikers Island',\n",
       " 'Dongan Hills',\n",
       " 'Canarsie',\n",
       " 'Crown Heights',\n",
       " 'Unionport',\n",
       " 'SoHo',\n",
       " 'Borough Park',\n",
       " 'Park Slope',\n",
       " 'Pleasant Plains',\n",
       " 'Forest Hills',\n",
       " 'Van Cortlandt Park',\n",
       " 'Jacob Riis Park',\n",
       " 'Rockaway Park',\n",
       " 'Windsor Terrace',\n",
       " 'Kew Gardens',\n",
       " 'Brownsville',\n",
       " 'Midland Beach',\n",
       " 'Bedford Stuyvesant',\n",
       " 'Flatlands',\n",
       " 'Clifton',\n",
       " 'Arverne',\n",
       " 'Midwood',\n",
       " 'Auburndale',\n",
       " 'Astoria Heights',\n",
       " 'Jamaica Estates',\n",
       " 'Soundview',\n",
       " 'Kensington',\n",
       " 'East New York',\n",
       " 'Ozone Park',\n",
       " 'Hillcrest',\n",
       " \"Mariner's Harbor\",\n",
       " 'Gravesend',\n",
       " 'South Ozone Park',\n",
       " 'Grasmere - Concord',\n",
       " 'Fieldston',\n",
       " 'Financial District',\n",
       " 'East Village',\n",
       " 'Arrochar',\n",
       " 'Westerleigh',\n",
       " 'Flatbush',\n",
       " 'Liberty Island',\n",
       " 'Bayside',\n",
       " 'Forest Hills Gardens',\n",
       " 'Flushing',\n",
       " 'Neponsit',\n",
       " 'Rockaway Beach',\n",
       " 'Greenwood',\n",
       " 'Woodside',\n",
       " 'Richmond Hill',\n",
       " 'Gramercy',\n",
       " 'East Elmhurst',\n",
       " 'Glendale',\n",
       " 'Howard Beach',\n",
       " 'Washington Heights',\n",
       " 'Hollis',\n",
       " 'Great Kills',\n",
       " 'La Guardia Airport',\n",
       " 'Central Park',\n",
       " 'Rossville',\n",
       " 'Bushwick',\n",
       " 'Downtown',\n",
       " 'Maspeth',\n",
       " 'Georgetown',\n",
       " 'Grymes Hill',\n",
       " 'Laurelton',\n",
       " 'Garment District',\n",
       " 'Pelham Bay Park',\n",
       " 'Prospect Park',\n",
       " 'Williamsburg',\n",
       " 'Longwood',\n",
       " 'Sutton Place',\n",
       " 'East Harlem',\n",
       " 'Bronx Park',\n",
       " 'East Flatbush',\n",
       " 'Woodrow',\n",
       " 'Port Ivory',\n",
       " 'Coney Island',\n",
       " 'Jackson Heights',\n",
       " 'Little Italy',\n",
       " 'Governors Island',\n",
       " 'Sunnyside']"
      ]
     },
     "execution_count": 36,
     "metadata": {},
     "output_type": "execute_result"
    }
   ],
   "source": []
  },
  {
   "cell_type": "code",
   "execution_count": null,
   "metadata": {},
   "outputs": [],
   "source": [
    "#countNull(NYsalespriceID)"
   ]
  },
  {
   "cell_type": "code",
   "execution_count": null,
   "metadata": {},
   "outputs": [],
   "source": [
    "featureOneFinal = SPdrop\n",
    "#saveCSV(SPdrop,'Cleaned_MedianListingPricePerSqft_AllHomes')"
   ]
  },
  {
   "cell_type": "markdown",
   "metadata": {},
   "source": [
    "### Feature 2 "
   ]
  },
  {
   "cell_type": "code",
   "execution_count": null,
   "metadata": {},
   "outputs": [],
   "source": [
    "rentalprice=pd.read_csv(featureTwo)\n",
    "#rentalprice.head()"
   ]
  },
  {
   "cell_type": "code",
   "execution_count": null,
   "metadata": {},
   "outputs": [],
   "source": [
    "NYrentalprice = filterThis(rentalprice, 'City','New York')\n",
    "\n",
    "print(NYrentalprice.shape)\n",
    "\n",
    "NYrentalprice = lastFewYears(NYrentalprice, 6,theseYears)\n",
    "\n",
    "NYrentalprice.head()\n"
   ]
  },
  {
   "cell_type": "code",
   "execution_count": null,
   "metadata": {},
   "outputs": [],
   "source": [
    "#add region ID\n",
    "NYrentalpriceID = makeRegID(NYrentalprice)\n",
    "#NYrentalpriceID = NYrentalprice"
   ]
  },
  {
   "cell_type": "code",
   "execution_count": null,
   "metadata": {},
   "outputs": [],
   "source": [
    "#completeRP = NYrentalpriceID.dropna()\n",
    "\n",
    "RPdrop = dropThese(NYrentalpriceID, DthreshVar)\n",
    "\n",
    "print('There are %d usable neighborhoods.' %RPdrop.shape[0])"
   ]
  },
  {
   "cell_type": "code",
   "execution_count": null,
   "metadata": {},
   "outputs": [],
   "source": [
    "\n",
    "RPdrop.RegionID = RPdrop.RegionID.astype(str)\n",
    "\n",
    "\n",
    "plotNeighborhoods(RPdrop)"
   ]
  },
  {
   "cell_type": "code",
   "execution_count": null,
   "metadata": {},
   "outputs": [],
   "source": [
    "#countNull(NYrentalpriceID)"
   ]
  },
  {
   "cell_type": "code",
   "execution_count": null,
   "metadata": {},
   "outputs": [],
   "source": [
    "featureTwoFinal = RPdrop"
   ]
  },
  {
   "cell_type": "markdown",
   "metadata": {},
   "source": [
    "### Feature 3 - Percent Decreasing"
   ]
  },
  {
   "cell_type": "code",
   "execution_count": null,
   "metadata": {},
   "outputs": [],
   "source": [
    "percentDec=pd.read_csv(featureThree)  \n",
    "#percentDec.head()\n",
    "#percentDec.shape"
   ]
  },
  {
   "cell_type": "code",
   "execution_count": null,
   "metadata": {},
   "outputs": [],
   "source": [
    "NYpercentDec = filterThis(percentDec,'City', 'New York')\n",
    "print(NYpercentDec.shape)\n",
    "\n",
    "NYpercentDec = lastFewYears(NYpercentDec, 7, theseYears)\n",
    "\n",
    "NYpercentDec"
   ]
  },
  {
   "cell_type": "code",
   "execution_count": null,
   "metadata": {},
   "outputs": [],
   "source": [
    "#completePD = NYpercentDec.dropna()\n",
    "\n",
    "PDdrop = dropThese(NYpercentDec, DthreshVar)\n",
    "\n",
    "print('There are %d usable neighborhoods.' %PDdrop.shape[0])"
   ]
  },
  {
   "cell_type": "code",
   "execution_count": null,
   "metadata": {},
   "outputs": [],
   "source": [
    "\n",
    "\n",
    "PDdrop.RegionID = PDdrop.RegionID.astype(str)\n",
    "\n",
    "#print(type(completePD.RegionID.iloc[0]))\n",
    "plotNeighborhoods(PDdrop)"
   ]
  },
  {
   "cell_type": "code",
   "execution_count": null,
   "metadata": {},
   "outputs": [],
   "source": [
    "#countNull(NYpercentDec)"
   ]
  },
  {
   "cell_type": "code",
   "execution_count": null,
   "metadata": {},
   "outputs": [],
   "source": [
    "featureThreeFinal = PDdrop\n",
    "saveCSV(PDdrop,'Cleaned_PctOfHomesDecreasingInValues_AllHomes')"
   ]
  },
  {
   "cell_type": "markdown",
   "metadata": {},
   "source": [
    "### Feature 4 - Percent Increasing"
   ]
  },
  {
   "cell_type": "code",
   "execution_count": null,
   "metadata": {},
   "outputs": [],
   "source": [
    "percentInc=pd.read_csv(featureFour)\n",
    "#percentInc.head()"
   ]
  },
  {
   "cell_type": "code",
   "execution_count": null,
   "metadata": {},
   "outputs": [],
   "source": [
    "NYpercentInc = filterThis(percentInc,'City','New York')\n",
    "\n",
    "NYpercentInc = lastFewYears(NYpercentInc, 7,theseYears)\n",
    "\n",
    "NYpercentInc.head()"
   ]
  },
  {
   "cell_type": "code",
   "execution_count": null,
   "metadata": {},
   "outputs": [],
   "source": [
    "NYpercentInc.shape"
   ]
  },
  {
   "cell_type": "code",
   "execution_count": null,
   "metadata": {},
   "outputs": [],
   "source": [
    "#completePI = NYpercentInc.dropna()\n",
    "\n",
    "PIdrop = dropThese(NYpercentInc, DthreshVar)\n",
    "\n",
    "print('There are %d usable neighborhoods.' %PIdrop.shape[0])"
   ]
  },
  {
   "cell_type": "code",
   "execution_count": null,
   "metadata": {},
   "outputs": [],
   "source": [
    "\n",
    "PIdrop.RegionID = PIdrop.RegionID.astype(str)\n",
    "\n",
    "print('There are %d complete rows.' %PIdrop.shape[0])\n",
    "\n",
    "plotNeighborhoods(PIdrop)"
   ]
  },
  {
   "cell_type": "code",
   "execution_count": null,
   "metadata": {},
   "outputs": [],
   "source": [
    "featureFourFinal = PIdrop\n",
    "saveCSV(PIdrop,'Cleaned_PctOfHomesIncreasingInValues_AllHomes')"
   ]
  },
  {
   "cell_type": "markdown",
   "metadata": {},
   "source": [
    "### Feature 5 - Bottom Tier"
   ]
  },
  {
   "cell_type": "code",
   "execution_count": null,
   "metadata": {},
   "outputs": [],
   "source": [
    "bottomtier=pd.read_csv(featureFive)\n",
    "\n",
    "#foreclosures.head()"
   ]
  },
  {
   "cell_type": "code",
   "execution_count": null,
   "metadata": {
    "scrolled": true
   },
   "outputs": [],
   "source": [
    "#NYtoptier = filterThis(bottomtier,'StateName','New York')\n",
    "#NYtoptier.shape"
   ]
  },
  {
   "cell_type": "code",
   "execution_count": null,
   "metadata": {},
   "outputs": [],
   "source": [
    "bottomtier.RegionID = bottomtier.RegionID.astype(int)\n",
    "\n",
    "#filter by regionID\n",
    "NYbottomtier = bottomtier.loc[bottomtier.loc[:,'RegionID'].isin(NYregions.keys())]\n",
    "\n",
    "NYbottomtier.head()"
   ]
  },
  {
   "cell_type": "code",
   "execution_count": null,
   "metadata": {},
   "outputs": [],
   "source": [
    "#drop seasonal adjustment\n",
    "NYbottomtier = NYbottomtier.drop('seasAdj',axis=1)\n",
    "\n",
    "NYbottomtier = lastFewYears(NYbottomtier, 4,theseYears)"
   ]
  },
  {
   "cell_type": "code",
   "execution_count": null,
   "metadata": {},
   "outputs": [],
   "source": [
    "NYbottomtier.head()"
   ]
  },
  {
   "cell_type": "code",
   "execution_count": null,
   "metadata": {},
   "outputs": [],
   "source": [
    "NYbottomtier.shape"
   ]
  },
  {
   "cell_type": "code",
   "execution_count": null,
   "metadata": {},
   "outputs": [],
   "source": [
    "#countNull(NYtoptier)\n",
    "BTdrop = dropThese(NYbottomtier, DthreshVar)\n",
    "#TTdrop.head()\n",
    "\n",
    "#print(TTdrop[TTdrop.iloc[TTdrop.loc[721,4]]])"
   ]
  },
  {
   "cell_type": "code",
   "execution_count": null,
   "metadata": {},
   "outputs": [],
   "source": [
    "#completeTT = NYtoptier.dropna()\n",
    "\n",
    "BTdrop.RegionID = BTdrop.RegionID.astype(str)\n",
    "\n",
    "print('There are %d usable neighborhoods in this data.' %BTdrop.shape[0])\n",
    "\n",
    "plotNeighborhoods(BTdrop)"
   ]
  },
  {
   "cell_type": "code",
   "execution_count": null,
   "metadata": {},
   "outputs": [],
   "source": [
    "featureFiveFinal = BTdrop\n",
    "saveCSV(BTdrop,'Cleaned_Sale_Counts_BottomTier_Neighborhood')"
   ]
  },
  {
   "cell_type": "markdown",
   "metadata": {},
   "source": [
    "### Feature 6 - Top Tier"
   ]
  },
  {
   "cell_type": "code",
   "execution_count": null,
   "metadata": {},
   "outputs": [],
   "source": [
    "toptier=pd.read_csv(featureSix)\n",
    "#toptier.head()"
   ]
  },
  {
   "cell_type": "code",
   "execution_count": null,
   "metadata": {
    "scrolled": true
   },
   "outputs": [],
   "source": [
    "#NYtoptier = filterThis(toptier,'StateName','New York')\n",
    "#NYtoptier.shape"
   ]
  },
  {
   "cell_type": "code",
   "execution_count": null,
   "metadata": {},
   "outputs": [],
   "source": [
    "toptier.RegionID = toptier.RegionID.astype(int)\n",
    "\n",
    "#filter by regionID\n",
    "NYtoptier = toptier.loc[toptier.loc[:,'RegionID'].isin(NYregions.keys())]\n",
    "\n",
    "#NYtoptier.head()"
   ]
  },
  {
   "cell_type": "code",
   "execution_count": null,
   "metadata": {},
   "outputs": [],
   "source": [
    "#drop seasonal adjustment\n",
    "NYtoptier = NYtoptier.drop('seasAdj',axis=1)\n",
    "\n",
    "NYtoptier = lastFewYears(NYtoptier, 4,theseYears)"
   ]
  },
  {
   "cell_type": "code",
   "execution_count": null,
   "metadata": {},
   "outputs": [],
   "source": [
    "NYtoptier.head()"
   ]
  },
  {
   "cell_type": "code",
   "execution_count": null,
   "metadata": {},
   "outputs": [],
   "source": [
    "NYtoptier.shape"
   ]
  },
  {
   "cell_type": "code",
   "execution_count": null,
   "metadata": {},
   "outputs": [],
   "source": [
    "#countNull(NYtoptier)\n",
    "TTdrop = dropThese(NYtoptier, DthreshVar)\n",
    "#TTdrop.head()\n",
    "\n",
    "#print(TTdrop[TTdrop.iloc[TTdrop.loc[721,4]]])"
   ]
  },
  {
   "cell_type": "code",
   "execution_count": null,
   "metadata": {},
   "outputs": [],
   "source": [
    "#completeTT = NYtoptier.dropna()\n",
    "\n",
    "TTdrop.RegionID = TTdrop.RegionID.astype(str)\n",
    "\n",
    "print('There are %d usable neighborhoods in this data.' %TTdrop.shape[0])\n",
    "\n",
    "plotNeighborhoods(TTdrop)"
   ]
  },
  {
   "cell_type": "code",
   "execution_count": null,
   "metadata": {},
   "outputs": [],
   "source": [
    "featureSixFinal = TTdrop\n",
    "saveCSV(TTdrop,'Cleaned_Sale_Counts_TopTier_Neighborhood')"
   ]
  },
  {
   "cell_type": "markdown",
   "metadata": {},
   "source": [
    "### Feature 7 - Inventory"
   ]
  },
  {
   "cell_type": "code",
   "execution_count": null,
   "metadata": {},
   "outputs": [],
   "source": [
    "inventory=pd.read_csv(featureSeven)\n",
    "\n",
    "#inventory.head()\n",
    "NYinventory = filterThis(inventory,'City','New York')\n",
    "\n",
    "NYinventory = lastFewYears(NYinventory, 4,theseYears)\n",
    "\n",
    "NYinventory = makeRegID(NYinventory)\n",
    "\n",
    "print(NYinventory.shape)\n",
    "\n",
    "NYinventory.head()"
   ]
  },
  {
   "cell_type": "code",
   "execution_count": null,
   "metadata": {},
   "outputs": [],
   "source": [
    "#completeIn = NYinventory.dropna()\n",
    "\n",
    "Indrop = dropThese(NYinventory, DthreshVar)\n",
    "\n",
    "print('There are %d usable neighborhoods.' %Indrop.shape[0])\n",
    "\n",
    "Indrop.head()"
   ]
  },
  {
   "cell_type": "code",
   "execution_count": null,
   "metadata": {},
   "outputs": [],
   "source": [
    "\n",
    "plotNeighborhoods(Indrop)"
   ]
  },
  {
   "cell_type": "code",
   "execution_count": null,
   "metadata": {},
   "outputs": [],
   "source": [
    "#plot.scatter(inDrop.iloc[0,5:])"
   ]
  },
  {
   "cell_type": "code",
   "execution_count": null,
   "metadata": {},
   "outputs": [],
   "source": [
    "featureSevenFinal = Indrop\n",
    "\n",
    "saveCSV(Indrop,'Cleaned_InventoryMeasure_Neighborhood_Public')"
   ]
  },
  {
   "cell_type": "code",
   "execution_count": null,
   "metadata": {},
   "outputs": [],
   "source": [
    "featureSevenFinal.shape"
   ]
  },
  {
   "cell_type": "code",
   "execution_count": null,
   "metadata": {},
   "outputs": [],
   "source": [
    "test=pd.read_csv('data/NYC_Cleaned_InventoryMeasure_Neighborhood_Public_12_9.csv')\n",
    "\n",
    "\n",
    "test.shape"
   ]
  },
  {
   "cell_type": "markdown",
   "metadata": {},
   "source": [
    "# Neighborhood Overlap"
   ]
  },
  {
   "cell_type": "code",
   "execution_count": null,
   "metadata": {},
   "outputs": [],
   "source": [
    "featuresA = [ featureOneFinal,\n",
    "            featureThreeFinal,\n",
    "            featureFourFinal,\n",
    "            featureFiveFinal,\n",
    "            featureSixFinal,\n",
    "            featureSevenFinal]\n",
    "\n",
    "\n",
    "featuresB = [featureSixFinal, featureSevenFinal]\n",
    "\n",
    "featuresC = [ featureOneFinal,\n",
    "            featureThreeFinal,\n",
    "            featureFourFinal,\n",
    "            featureSevenFinal]\n",
    "\n",
    "featuresD = [featureFourFinal,\n",
    "            featureSevenFinal]\n",
    "\n",
    "featuresE = [featureOneFinal,\n",
    "             featureFourFinal,\n",
    "            featureSevenFinal]\n",
    "\n",
    "featuresF = [featureFiveFinal,\n",
    "            featureSixFinal,featureFourFinal,featureThreeFinal]"
   ]
  },
  {
   "cell_type": "code",
   "execution_count": null,
   "metadata": {},
   "outputs": [],
   "source": [
    "\n",
    "def overlappingNeighborhoods(features):\n",
    "    overlapped = features[0].RegionID\n",
    "    print('data lengths:\\n%d' %(len(overlapped)))\n",
    "    for f in range(1,(len(features))): \n",
    "        print('%d' %(len(features[f])))\n",
    "        overlappedNew = overlapped\n",
    "        for d in range(len(overlappedNew)):\n",
    "            if overlappedNew.iloc[d] not in features[f].RegionID.unique():\n",
    "                overlapped = overlapped.drop(overlappedNew.index[d])\n",
    "    print('There are %d overlapping neighborhoods represented.' %len(overlapped))\n",
    "    return overlapped\n"
   ]
  },
  {
   "cell_type": "code",
   "execution_count": null,
   "metadata": {},
   "outputs": [],
   "source": [
    "plotNeighborhoods(overlappingNeighborhoods(featuresC).to_frame(name='RegionID'))"
   ]
  },
  {
   "cell_type": "code",
   "execution_count": null,
   "metadata": {},
   "outputs": [],
   "source": [
    "finalIDs = overlappingNeighborhoods(featuresC).to_frame(name='RegionID')"
   ]
  },
  {
   "cell_type": "code",
   "execution_count": null,
   "metadata": {},
   "outputs": [],
   "source": [
    "for f in range(finalIDs.shape[0]):\n",
    "    print(NYregions[finalIDs.iloc[f,0]])\n"
   ]
  },
  {
   "cell_type": "code",
   "execution_count": null,
   "metadata": {},
   "outputs": [],
   "source": [
    "def findNaN(df):\n",
    "    print('there are %d rows with NaN.' %(df.shape[0]-df.dropna().shape[0]))\n",
    "    for n in range(60):\n",
    "        if df.isnull():\n",
    "            print(n)\n",
    "\n",
    "#findNaN(featureOneFinal)"
   ]
  },
  {
   "cell_type": "code",
   "execution_count": null,
   "metadata": {},
   "outputs": [],
   "source": []
  },
  {
   "cell_type": "code",
   "execution_count": null,
   "metadata": {},
   "outputs": [],
   "source": [
    "def normalizeIt(myList):\n",
    "    nMin = myList.min()\n",
    "    nMax = myList.max()\n",
    "    for l in range(len(myList)):\n",
    "        myList[l]=(myList[l] - nMin)/(nMax-nMin) #normalize activity of various cathegories within row by total\n",
    "    \n",
    "    #print(myList)\n",
    "    stdDev = myList.std()\n",
    "    return stdDev \n",
    "\n",
    "normalizeIt(featureSevenFinal.iloc[4,-60:])"
   ]
  },
  {
   "cell_type": "code",
   "execution_count": null,
   "metadata": {},
   "outputs": [],
   "source": []
  }
 ],
 "metadata": {
  "kernelspec": {
   "display_name": "Python 2",
   "language": "python",
   "name": "python2"
  },
  "language_info": {
   "codemirror_mode": {
    "name": "ipython",
    "version": 2
   },
   "file_extension": ".py",
   "mimetype": "text/x-python",
   "name": "python",
   "nbconvert_exporter": "python",
   "pygments_lexer": "ipython2",
   "version": "2.7.15"
  }
 },
 "nbformat": 4,
 "nbformat_minor": 2
}
