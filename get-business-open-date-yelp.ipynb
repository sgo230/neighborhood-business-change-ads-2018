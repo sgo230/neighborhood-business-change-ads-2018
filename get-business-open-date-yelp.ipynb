{
 "cells": [
  {
   "cell_type": "code",
   "execution_count": null,
   "metadata": {},
   "outputs": [],
   "source": [
    "# This script obtains the open date for a given restaurant from Yelp\n",
    "# Simple POC script for a few businesses"
   ]
  },
  {
   "cell_type": "code",
   "execution_count": 214,
   "metadata": {
    "ExecuteTime": {
     "end_time": "2018-12-11T01:16:51.287654Z",
     "start_time": "2018-12-11T01:16:51.276619Z"
    }
   },
   "outputs": [],
   "source": [
    "import pandas as pd\n",
    "import json\n",
    "from bs4 import BeautifulSoup\n",
    "import requests\n",
    "import html\n",
    "import datetime"
   ]
  },
  {
   "cell_type": "code",
   "execution_count": 215,
   "metadata": {
    "ExecuteTime": {
     "end_time": "2018-12-11T01:16:53.011754Z",
     "start_time": "2018-12-11T01:16:52.190952Z"
    }
   },
   "outputs": [],
   "source": [
    "df = pd.read_excel('yelp_data.xlsx')"
   ]
  },
  {
   "cell_type": "code",
   "execution_count": 216,
   "metadata": {
    "ExecuteTime": {
     "end_time": "2018-12-11T01:16:54.822062Z",
     "start_time": "2018-12-11T01:16:54.819332Z"
    }
   },
   "outputs": [],
   "source": [
    "def parse_base_url(url_string_with_params):\n",
    "    return url_string_with_params.split('?')[0]\n",
    "df['base_url'] = df['url'].apply(parse_base_url)"
   ]
  },
  {
   "cell_type": "code",
   "execution_count": 217,
   "metadata": {
    "ExecuteTime": {
     "end_time": "2018-12-11T01:16:55.205103Z",
     "start_time": "2018-12-11T01:16:55.195980Z"
    }
   },
   "outputs": [],
   "source": [
    "df['base_url'] = df['url'].apply(parse_base_url)"
   ]
  },
  {
   "cell_type": "code",
   "execution_count": 218,
   "metadata": {
    "ExecuteTime": {
     "end_time": "2018-12-11T01:16:55.390152Z",
     "start_time": "2018-12-11T01:16:55.387029Z"
    }
   },
   "outputs": [],
   "source": [
    "urls = list(df['base_url'])"
   ]
  },
  {
   "cell_type": "code",
   "execution_count": 239,
   "metadata": {
    "ExecuteTime": {
     "end_time": "2018-12-11T01:23:40.732364Z",
     "start_time": "2018-12-11T01:23:40.722542Z"
    }
   },
   "outputs": [],
   "source": [
    "def get_business_dates(base_url):\n",
    "    \"\"\"Obtain the date of the earliest reviews for a business on Yelp\n",
    "    \n",
    "    Args:\n",
    "        base_url: Yelp business URL (no params)\n",
    "        \n",
    "    Returns a dictionary with the following keys:\n",
    "        base_url: URL of the business\n",
    "        open_date: Date of the earliest review on Yelp\n",
    "    \n",
    "    \"\"\"\n",
    "    \n",
    "    # Earliest reviews\n",
    "    querystring = {\"sort_by\":\"date_asc\"}\n",
    "    response_rev = requests.request(\"GET\", base_url, params=querystring).text\n",
    "    \n",
    "    #Parse response - review section varies slightly per page\n",
    "    soup = BeautifulSoup(response_rev, 'html.parser')\n",
    "    try:\n",
    "        if 'aggregateRating' in soup.head.findAll('script')[6].string:\n",
    "            reviews = json.loads(soup.head.findAll('script')[6].string)\n",
    "        elif 'aggregateRating' in soup.head.findAll('script')[7].string:\n",
    "            reviews = json.loads(soup.head.findAll('script')[7].string)\n",
    "        elif 'aggregateRating' in soup.head.findAll('script')[8].string:\n",
    "            reviews = json.loads(soup.head.findAll('script')[8].string)\n",
    "        elif 'aggregateRating' in soup.head.findAll('script')[9].string:\n",
    "            reviews = json.loads(soup.head.findAll('script')[9].string)\n",
    "        elif 'aggregateRating' in soup.head.findAll('script')[10].string:\n",
    "            reviews = json.loads(soup.head.findAll('script')[10].string)\n",
    "        else:\n",
    "            reviews = json.loads(soup.head.findAll('script')[11].string)\n",
    "        \n",
    "        first_review_date = reviews['review'][0]['datePublished']\n",
    "    \n",
    "    except:\n",
    "        \n",
    "        first_review_date = None\n",
    "\n",
    "    # Create dict with results\n",
    "    output = {}\n",
    "    output['base_url'] = base_url\n",
    "    output['open_date'] = first_review_date\n",
    "\n",
    "    return output"
   ]
  },
  {
   "cell_type": "code",
   "execution_count": 234,
   "metadata": {
    "ExecuteTime": {
     "end_time": "2018-12-11T01:20:55.247737Z",
     "start_time": "2018-12-11T01:20:55.242063Z"
    }
   },
   "outputs": [],
   "source": [
    "df = pd.DataFrame(columns = ['base_url','open_date'])"
   ]
  },
  {
   "cell_type": "code",
   "execution_count": 242,
   "metadata": {
    "ExecuteTime": {
     "end_time": "2018-12-11T01:33:54.433227Z",
     "start_time": "2018-12-11T01:33:51.291322Z"
    }
   },
   "outputs": [
    {
     "name": "stdout",
     "output_type": "stream",
     "text": [
      "0 https://www.yelp.com/biz/meline-food-center-brooklyn-2\n",
      "Writing to file\n"
     ]
    }
   ],
   "source": [
    "for n, i in enumerate(urls[0:1]):\n",
    "    print(n, i)\n",
    "    df = df.append(get_business_dates(i), ignore_index=True)\n",
    "    if n % 50 == 0:\n",
    "        print(\"Writing to file\")\n",
    "        df.to_excel('yelp_dates_' + datetime.datetime.strftime(datetime.datetime.now(),'%Y%m%d%H%M%S') + '.xlsx')"
   ]
  },
  {
   "cell_type": "code",
   "execution_count": 240,
   "metadata": {
    "ExecuteTime": {
     "end_time": "2018-12-11T01:23:46.747657Z",
     "start_time": "2018-12-11T01:23:43.644675Z"
    }
   },
   "outputs": [
    {
     "data": {
      "text/plain": [
       "{'base_url': 'https://www.yelp.com/biz/tundra-deli-grocery-brooklyn',\n",
       " 'open_date': None}"
      ]
     },
     "execution_count": 240,
     "metadata": {},
     "output_type": "execute_result"
    }
   ],
   "source": [
    "get_business_dates('https://www.yelp.com/biz/tundra-deli-grocery-brooklyn')"
   ]
  },
  {
   "cell_type": "code",
   "execution_count": null,
   "metadata": {},
   "outputs": [],
   "source": []
  }
 ],
 "metadata": {
  "kernelspec": {
   "display_name": "Python 3",
   "language": "python",
   "name": "python3"
  },
  "language_info": {
   "codemirror_mode": {
    "name": "ipython",
    "version": 3
   },
   "file_extension": ".py",
   "mimetype": "text/x-python",
   "name": "python",
   "nbconvert_exporter": "python",
   "pygments_lexer": "ipython3",
   "version": "3.6.6"
  }
 },
 "nbformat": 4,
 "nbformat_minor": 2
}
